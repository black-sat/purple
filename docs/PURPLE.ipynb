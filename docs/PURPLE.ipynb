{
  "nbformat": 4,
  "nbformat_minor": 0,
  "metadata": {
    "colab": {
      "provenance": [],
      "authorship_tag": "ABX9TyNmlRH4j8xByhNHlvf7mXvc"
    },
    "kernelspec": {
      "name": "python3",
      "display_name": "Python 3"
    },
    "language_info": {
      "name": "python"
    }
  },
  "cells": [
    {
      "cell_type": "markdown",
      "source": [
        "# The PURPLE planning engine\n",
        "Welcome to the demo notebook of PURPLE, a planning engine for the [Unified Planning](https://unified-planning.readthedocs.io) (UP) framework of the [AIPlan4EU](https://www.aiplan4eu-project.eu) project.\n",
        "\n",
        "In this notebook we will demonstrate the basic features of the integration of PURPLE within the UP.\n",
        "\n",
        "A basic understanding of how the UP works is assumed.\n",
        "\n",
        "Let's start."
      ],
      "metadata": {
        "id": "nnc-zhtch6BW"
      }
    },
    {
      "cell_type": "markdown",
      "source": [
        "## Installation\n",
        "PURPLE is based on the [BLACK satisfiability checker](https://www.black-sat.org). For this reason, we first have to install BLACK itself, which on Ubuntu systems (such as the one run by Colab here) is pretty easy."
      ],
      "metadata": {
        "id": "GtX1vEUfim_0"
      }
    },
    {
      "cell_type": "code",
      "source": [
        "!wget https://github.com/black-sat/black/releases/download/v0.10.3/black-sat-0.10.3.ubuntu20.04.x86_64.deb"
      ],
      "metadata": {
        "id": "yGgGtQ0jWpMY"
      },
      "execution_count": null,
      "outputs": []
    },
    {
      "cell_type": "code",
      "source": [
        "!apt-get update && apt-get install ./black-sat-0.10.3.ubuntu20.04.x86_64.deb"
      ],
      "metadata": {
        "id": "BdgzD-Jli-0W"
      },
      "execution_count": null,
      "outputs": []
    },
    {
      "cell_type": "markdown",
      "source": [
        "With BLACK installed, we can install PURPLE and its UP integration module directly with `pip`."
      ],
      "metadata": {
        "id": "DuB72wDyjCFj"
      }
    },
    {
      "cell_type": "code",
      "source": [
        "!pip install up-purple"
      ],
      "metadata": {
        "id": "pIZZ2c5JdAsD"
      },
      "execution_count": null,
      "outputs": []
    },
    {
      "cell_type": "markdown",
      "source": [
        "Now, to test whether everything worked correctly, let's just import the Python modules we will need."
      ],
      "metadata": {
        "id": "rIcTvGB7jKSN"
      }
    },
    {
      "cell_type": "code",
      "source": [
        "from black_sat import *\n",
        "from purple_plan import *\n",
        "from up_purple import *\n",
        "from unified_planning.shortcuts import *"
      ],
      "metadata": {
        "id": "HwtgcDCiXXpy"
      },
      "execution_count": null,
      "outputs": []
    },
    {
      "cell_type": "markdown",
      "source": [
        "## Usage example\n",
        "\n",
        "The PURPLE engine supports the *one-shot* planning mode, and, currently, the following modeling features:\n",
        "- conditional effects\n",
        "- negative and disjunctive conditions\n",
        "- *trajectory constraints*\n",
        "\n",
        "In particular, trajectory constraints are naturally supported thanks to BLACK's temporal reasoning capabilities. \n",
        "\n",
        "Let's see a toy example involving this capability.\n",
        "\n",
        "### The Kitchen toy example\n",
        "\n",
        "Suppose we are at home, relaxing on the balcony, and we get hungry. We want to go to the kitchen to get some food, so we need to plan the itinerary. Let's ask the UP to plan it for us.\n",
        "\n",
        "First, we want to register the PURPLE engine with the UP.\n"
      ],
      "metadata": {
        "id": "NmNLx0KikQ0Y"
      }
    },
    {
      "cell_type": "code",
      "source": [
        "env = up.environment.get_environment()\n",
        "env.factory.add_engine('PURPLE', 'up_purple', 'PurpleEngineImpl')"
      ],
      "metadata": {
        "id": "8FrlPoq0lvIR"
      },
      "execution_count": null,
      "outputs": []
    },
    {
      "cell_type": "markdown",
      "source": [
        "Then, we model our domain using the UP data model:\n",
        "- A data type `Room` for the different rooms of the house;\n",
        "- A predicate `connected(x,y)` to state whether a room `x` has access to another room `y`;\n",
        "- A predicate `position(x)` for our current position in the house;\n",
        "- An action `go(x,y)` to move from a room `x` to a room `y`."
      ],
      "metadata": {
        "id": "f2Iox_32l2Vr"
      }
    },
    {
      "cell_type": "code",
      "source": [
        "Room = UserType(\"Room\")\n",
        "\n",
        "position = Fluent(\"position\", BoolType(), r = Room)\n",
        "connected = Fluent(\"connected\", BoolType(), from_ = Room, to = Room)\n",
        "\n",
        "go = InstantaneousAction(\"go\", from_ = Room, to = Room)\n",
        "from_ = go.parameter(\"from_\")\n",
        "to = go.parameter(\"to\")\n",
        "go.add_precondition(\n",
        "    And(position(from_), Or(connected(from_, to), connected(to, from_)))\n",
        ")\n",
        "go.add_effect(position(from_), False)\n",
        "go.add_effect(position(to), True)"
      ],
      "metadata": {
        "id": "tco-kCOIl1xf"
      },
      "execution_count": null,
      "outputs": []
    },
    {
      "cell_type": "markdown",
      "source": [
        "Now we set up the problem instance:\n",
        "- the list of rooms of the house;\n",
        "- the initial position (`balcony`);\n",
        "- the goal position (`kitchen`)"
      ],
      "metadata": {
        "id": "T8sYsWwqmcSf"
      }
    },
    {
      "cell_type": "code",
      "source": [
        "problem = Problem(\"kitchen\")\n",
        "\n",
        "kitchen = Object(\"kitchen\", Room)\n",
        "toilet = Object(\"toilet\", Room)\n",
        "bedroom = Object(\"bedroom\", Room)\n",
        "coridor = Object(\"coridor\", Room)\n",
        "balcony = Object(\"balcony\", Room)\n",
        "        \n",
        "problem.add_objects([kitchen, toilet, bedroom, coridor, balcony])\n",
        "\n",
        "problem.add_fluent(position, default_initial_value=False)\n",
        "problem.add_fluent(connected, default_initial_value=False)\n",
        "problem.add_action(go)\n",
        "\n",
        "problem.set_initial_value(position(balcony), True)\n",
        "problem.set_initial_value(connected(kitchen, coridor), True)\n",
        "problem.set_initial_value(connected(toilet, coridor), True)\n",
        "problem.set_initial_value(connected(bedroom, coridor), True)\n",
        "problem.set_initial_value(connected(bedroom, balcony), True)\n",
        "\n",
        "problem.add_goal(position(kitchen))"
      ],
      "metadata": {
        "id": "qe3AEdWMmsAy"
      },
      "execution_count": null,
      "outputs": []
    },
    {
      "cell_type": "markdown",
      "source": [
        "Now we can solve the problem. \n",
        "Although PURPLE supports a lifted representation, its grounding is still not good yet. \n",
        "\n",
        "So let's ask to the UP to ground the problem for us. We define a function to reuse it later:"
      ],
      "metadata": {
        "id": "w8qp-D7Im3Bl"
      }
    },
    {
      "cell_type": "code",
      "source": [
        "def solve(problem):\n",
        "  with Compiler(\n",
        "        problem_kind = problem.kind, \n",
        "        compilation_kind = CompilationKind.GROUNDING\n",
        "    ) as grounder:\n",
        "\n",
        "    print(\"Solving...\")\n",
        "    grounded = grounder.compile(problem, CompilationKind.GROUNDING)\n",
        "    with OneshotPlanner(name='PURPLE') as planner:\n",
        "        result = planner.solve(grounded.problem)\n",
        "        if result.status in unified_planning.engines.results.POSITIVE_OUTCOMES:\n",
        "            mapped = result.plan.replace_action_instances(grounded.map_back_action_instance)\n",
        "            print(f\"PURPLE found this plan: {mapped}\")\n",
        "        else:\n",
        "            print(\"No plan found.\")"
      ],
      "metadata": {
        "id": "WfuwTAmlnG6l"
      },
      "execution_count": null,
      "outputs": []
    },
    {
      "cell_type": "markdown",
      "source": [
        "And we call it:"
      ],
      "metadata": {
        "id": "Fh9uIV9QnYUe"
      }
    },
    {
      "cell_type": "code",
      "source": [
        "solve(problem)"
      ],
      "metadata": {
        "id": "chYkso5pna-7"
      },
      "execution_count": null,
      "outputs": []
    },
    {
      "cell_type": "markdown",
      "source": [
        "So we have our path from the balcony to the kitchen!\n",
        "\n",
        "But wait, it's a good idea to wash your hands before eating, so we probably want to pass by the toilet before reaching the kitchen.\n",
        "\n",
        "This can be expressed with the trajectory constraint `Sometime(position(toilet))`. Let's add it to the problem:"
      ],
      "metadata": {
        "id": "DnB_rJ1QoW5i"
      }
    },
    {
      "cell_type": "code",
      "source": [
        "problem.add_trajectory_constraint(Sometime(position(toilet)))"
      ],
      "metadata": {
        "id": "o1LMgfPao1RX"
      },
      "execution_count": null,
      "outputs": []
    },
    {
      "cell_type": "markdown",
      "source": [
        "And solve the problem again:"
      ],
      "metadata": {
        "id": "0FA4eifFo3W1"
      }
    },
    {
      "cell_type": "code",
      "source": [
        "solve(problem)"
      ],
      "metadata": {
        "id": "B4sgZ0Ipo5GQ"
      },
      "execution_count": null,
      "outputs": []
    },
    {
      "cell_type": "markdown",
      "source": [
        "Here we are! The answer is simple, when you ask the right question."
      ],
      "metadata": {
        "id": "VkZoLF-op7Eu"
      }
    },
    {
      "cell_type": "markdown",
      "source": [
        "## Conclusions\n",
        "\n",
        "We demonstrated an extremely toy example of the usage of the PURPLE planning engine within the UP framework."
      ],
      "metadata": {
        "id": "wugZUJJwqBWP"
      }
    }
  ]
}